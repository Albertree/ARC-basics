{
 "cells": [
  {
   "cell_type": "markdown",
   "metadata": {},
   "source": [
    "# INITIALIZATION EXAMPLE"
   ]
  },
  {
   "cell_type": "code",
   "execution_count": 3,
   "metadata": {},
   "outputs": [
    {
     "name": "stdout",
     "output_type": "stream",
     "text": [
      "[[[[[6, 7, 0], [0, 6, 6], [0, 0, 0]], [[6, 6, 7, 7, 0, 0], [6, 6, 7, 7, 0, 0], [0, 0, 6, 6, 6, 6], [0, 0, 6, 6, 6, 6], [0, 0, 0, 0, 0, 0], [0, 0, 0, 0, 0, 0]]], [[[1, 0, 4], [0, 4, 0], [0, 1, 0]], [[1, 1, 0, 0, 4, 4], [1, 1, 0, 0, 4, 4], [0, 0, 4, 4, 0, 0], [0, 0, 4, 4, 0, 0], [0, 0, 1, 1, 0, 0], [0, 0, 1, 1, 0, 0]]], [[[3, 2, 0], [0, 7, 3], [0, 0, 0]], [[3, 3, 3, 2, 2, 2, 0, 0, 0], [3, 3, 3, 2, 2, 2, 0, 0, 0], [3, 3, 3, 2, 2, 2, 0, 0, 0], [0, 0, 0, 7, 7, 7, 3, 3, 3], [0, 0, 0, 7, 7, 7, 3, 3, 3], [0, 0, 0, 7, 7, 7, 3, 3, 3], [0, 0, 0, 0, 0, 0, 0, 0, 0], [0, 0, 0, 0, 0, 0, 0, 0, 0], [0, 0, 0, 0, 0, 0, 0, 0, 0]]], [[[0, 8, 0], [0, 6, 6], [9, 8, 0]], [[0, 0, 0, 8, 8, 8, 0, 0, 0], [0, 0, 0, 8, 8, 8, 0, 0, 0], [0, 0, 0, 8, 8, 8, 0, 0, 0], [0, 0, 0, 6, 6, 6, 6, 6, 6], [0, 0, 0, 6, 6, 6, 6, 6, 6], [0, 0, 0, 6, 6, 6, 6, 6, 6], [9, 9, 9, 8, 8, 8, 0, 0, 0], [9, 9, 9, 8, 8, 8, 0, 0, 0], [9, 9, 9, 8, 8, 8, 0, 0, 0]]], [[[4, 0, 3], [2, 2, 0], [0, 0, 8]], [[4, 4, 4, 4, 0, 0, 0, 0, 3, 3, 3, 3], [4, 4, 4, 4, 0, 0, 0, 0, 3, 3, 3, 3], [4, 4, 4, 4, 0, 0, 0, 0, 3, 3, 3, 3], [4, 4, 4, 4, 0, 0, 0, 0, 3, 3, 3, 3], [2, 2, 2, 2, 2, 2, 2, 2, 0, 0, 0, 0], [2, 2, 2, 2, 2, 2, 2, 2, 0, 0, 0, 0], [2, 2, 2, 2, 2, 2, 2, 2, 0, 0, 0, 0], [2, 2, 2, 2, 2, 2, 2, 2, 0, 0, 0, 0], [0, 0, 0, 0, 0, 0, 0, 0, 8, 8, 8, 8], [0, 0, 0, 0, 0, 0, 0, 0, 8, 8, 8, 8], [0, 0, 0, 0, 0, 0, 0, 0, 8, 8, 8, 8], [0, 0, 0, 0, 0, 0, 0, 0, 8, 8, 8, 8]]]], [[[[0, 1, 0], [0, 8, 7], [9, 9, 0]], [[0, 0, 0, 0, 1, 1, 1, 1, 0, 0, 0, 0], [0, 0, 0, 0, 1, 1, 1, 1, 0, 0, 0, 0], [0, 0, 0, 0, 1, 1, 1, 1, 0, 0, 0, 0], [0, 0, 0, 0, 1, 1, 1, 1, 0, 0, 0, 0], [0, 0, 0, 0, 8, 8, 8, 8, 7, 7, 7, 7], [0, 0, 0, 0, 8, 8, 8, 8, 7, 7, 7, 7], [0, 0, 0, 0, 8, 8, 8, 8, 7, 7, 7, 7], [0, 0, 0, 0, 8, 8, 8, 8, 7, 7, 7, 7], [9, 9, 9, 9, 9, 9, 9, 9, 0, 0, 0, 0], [9, 9, 9, 9, 9, 9, 9, 9, 0, 0, 0, 0], [9, 9, 9, 9, 9, 9, 9, 9, 0, 0, 0, 0], [9, 9, 9, 9, 9, 9, 9, 9, 0, 0, 0, 0]]]]]\n",
      "a85d4709\n",
      "4\n"
     ]
    },
    {
     "data": {
      "image/png": "[encoded data removed]",
      "text/plain": [
       "<Figure size 400x400 with 1 Axes>"
      ]
     },
     "metadata": {},
     "output_type": "display_data"
    },
    {
     "data": {
      "image/png": "[encoded data removed]",
      "text/plain": [
       "<Figure size 2000x400 with 20 Axes>"
      ]
     },
     "metadata": {},
     "output_type": "display_data"
    }
   ],
   "source": [
    "import os\n",
    "import json\n",
    "import glob\n",
    "import numpy as np\n",
    "import matplotlib.pyplot as plt\n",
    "\n",
    "from basics.ARCLOADER import *\n",
    "from basics.VISUALIZATION import *\n",
    "\n",
    "arc = ARCDataset()\n",
    "## list format (recommended) #########################################################################################\n",
    "# type = 'train' or 'eval' / form = 'dict' or 'list' / shuffle = True or False / jcode = True or False\n",
    "tasks, j_codes = arc.load_data(type = 'train', form = 'list', shuffle = False, jcode = True)\n",
    "\n",
    "x = 25     # 0 - 399      (task number)\n",
    "tt = 0    # 0 or 1       (train or test)\n",
    "p = 0     # 0 - max pair (pair number)\n",
    "io = 0    # 0 or 1       (input or output)\n",
    "\n",
    "# print(tasks) - if form = 'list' / [x][0 or 1][p][0 or 1][row][col]\n",
    "example_task = tasks[x]\n",
    "example_pair = tasks[x][tt][p]\n",
    "example_grid = tasks[x][tt][p][io]\n",
    "print(example_task)\n",
    "\n",
    "\n",
    "## json codes #########################################################################################\n",
    "# print(j_codes)\n",
    "print(arc.itoj(0, j_codes))\n",
    "print(arc.jtoi('5c2c9af4', j_codes))\n",
    "\n",
    "\n",
    "## visualization #######################################################################################################\n",
    "color_pallette = [[0,1,2,3], [4,5,6,7], [8,9,10,11], [-1,-1,-1,-1]] # 3 additional colors 10 and 11 and 12(-1) [12 means null]\n",
    "plot_data(color_pallette)\n",
    "\n",
    "\n",
    "## tencolor split #######################################################################################################\n",
    "plot_data(example_grid, keyword = 'tencolorsplit')\n",
    "\n"
   ]
  },
  {
   "cell_type": "markdown",
   "metadata": {},
   "source": [
    "# Detected Objects and Visualization"
   ]
  },
  {
   "cell_type": "code",
   "execution_count": 13,
   "metadata": {},
   "outputs": [],
   "source": [
    "import numpy as np\n",
    "import matplotlib.pyplot as plt\n",
    "import os\n",
    "import json\n",
    "import glob\n",
    "from pathlib import Path\n",
    "\n",
    "from basics.ARCLOADER import *\n",
    "from basics.VISUALIZATION import *\n",
    "\n",
    "from DSL.dsl import *\n",
    "from DSL.dsl2 import *\n",
    "from DSL.hodel_utils import *\n",
    "# from DSL.property_DSL import *\n",
    "# from DSL.util_DSL import *\n",
    "# from DSL.transformation_DSL import *\n",
    "\n",
    "# from KG_definition.node import *\n",
    "from KG_definition.new import *\n",
    "from KG_definition.edge import *\n",
    "\n",
    "from KG_construction.construction import *\n",
    "\n"
   ]
  },
  {
   "cell_type": "code",
   "execution_count": 22,
   "metadata": {},
   "outputs": [],
   "source": [
    "arc = ARCDataset()\n",
    "tasks, j_codes = arc.load_data(type = 'train', form = 'list', shuffle = False, jcode = True)\n",
    "\n",
    "x = 245  # 0 - 399      (task number)\n",
    "x = arc.jtoi(\"0ca9ddb6\", j_codes)\n",
    "# x = arc.jtoi(\"e76a88a6\", j_codes)\n",
    "\n",
    "tt = 0    # 0 or 1       (train or test)\n",
    "p = 0     # 0 - max pair (pair number)\n",
    "io = 0   # 0 or 1       (input or output)\n",
    "\n",
    "example_task = tasks[x]\n",
    "example_pair = tasks[x][tt][p]\n",
    "example_grid = tasks[x][tt][p][io]\n",
    "\n",
    "# plot_data(example_grid)"
   ]
  },
  {
   "cell_type": "code",
   "execution_count": 23,
   "metadata": {},
   "outputs": [
    {
     "name": "stdout",
     "output_type": "stream",
     "text": [
      "4  objects detected\n"
     ]
    },
    {
     "data": {
      "image/png": "[encoded data removed]",
      "text/plain": [
       "<Figure size 400x400 with 1 Axes>"
      ]
     },
     "metadata": {},
     "output_type": "display_data"
    },
    {
     "data": {
      "image/png": "[encoded data removed]",
      "text/plain": [
       "<Figure size 1500x300 with 5 Axes>"
      ]
     },
     "metadata": {},
     "output_type": "display_data"
    }
   ],
   "source": [
    "##########################################################\n",
    "# visualize all objects\n",
    "all_objects = find_all_objects(example_grid)\n",
    "print(len(find_all_objects(example_grid)), \" objects detected\")\n",
    "\n",
    "plot_data(example_grid)\n",
    "\n",
    "# visualize all objects with sorting\n",
    "a = find_all_objects(example_grid)\n",
    "b = find_all_objects_sort(example_grid)\n",
    "c = find_all_objects_sort_grid(example_grid)\n",
    "\n",
    "# for i in range(len(a)):\n",
    "#     print(a[i])\n",
    "#     print(b[i])\n",
    "#     print(c[i])\n",
    "#     print('\\n')\n",
    "\n",
    "plot_data(find_all_objects_sort_grid(example_grid), keyword = \"objects\")\n"
   ]
  },
  {
   "cell_type": "code",
   "execution_count": 8,
   "metadata": {},
   "outputs": [],
   "source": [
    "# # visualization for loop\n",
    "# tt = 0\n",
    "# p = 0\n",
    "# io = 0\n",
    "\n",
    "# for i in range(5):\n",
    "#     example_grid = tasks[i][tt][p][io]\n",
    "#     all_objects = find_all_objects(totuple(example_grid))\n",
    "#     print(i)\n",
    "#     plot_data(example_grid)\n",
    "\n",
    "#     all_objects_grid = []\n",
    "#     for i in range(len(all_objects)):\n",
    "#         grid = togrid(all_objects[i])\n",
    "#         all_objects_grid.append(grid)\n",
    "#         # plot_data(grid)\n",
    "\n",
    "#     plot_data(all_objects_grid, keyword = \"objects\")"
   ]
  },
  {
   "cell_type": "code",
   "execution_count": 9,
   "metadata": {},
   "outputs": [],
   "source": [
    "# x = arc.jtoi('d5d6de2d', j_codes)\n",
    "# tt = 1\n",
    "# p = 0\n",
    "# io = 0\n",
    "\n",
    "# example_task = tasks[x]\n",
    "# example_grid = tasks[x][tt][p][io]\n",
    "\n",
    "# all_objects = find_all_objects(example_grid)\n",
    "\n",
    "# plot_data(find_all_objects_sort_grid(example_grid), keyword = \"objects\")\n",
    "# # plot_data(example_task)"
   ]
  },
  {
   "cell_type": "markdown",
   "metadata": {},
   "source": [
    "# Graph Nodes XXXXX"
   ]
  },
  {
   "cell_type": "code",
   "execution_count": 10,
   "metadata": {},
   "outputs": [
    {
     "ename": "TypeError",
     "evalue": "Grid.__init__() missing 2 required positional arguments: 'p' and 'io'",
     "output_type": "error",
     "traceback": [
      "\u001b[0;31m---------------------------------------------------------------------------\u001b[0m",
      "\u001b[0;31mTypeError\u001b[0m                                 Traceback (most recent call last)",
      "Cell \u001b[0;32mIn[10], line 7\u001b[0m\n\u001b[1;32m      5\u001b[0m object_list \u001b[38;5;241m=\u001b[39m find_all_objects(example_grid)\n\u001b[1;32m      6\u001b[0m \u001b[38;5;66;03m# gnode initialization\u001b[39;00m\n\u001b[0;32m----> 7\u001b[0m gnode \u001b[38;5;241m=\u001b[39m Grid(example_grid, \u001b[38;5;241m1\u001b[39m)\n\u001b[1;32m      8\u001b[0m node_list\u001b[38;5;241m.\u001b[39mappend(gnode)\n\u001b[1;32m     10\u001b[0m \u001b[38;5;66;03m# pnode layer\u001b[39;00m\n",
      "\u001b[0;31mTypeError\u001b[0m: Grid.__init__() missing 2 required positional arguments: 'p' and 'io'"
     ]
    }
   ],
   "source": [
    "from KG_definition.new import *\n",
    "\n",
    "node_list = []\n",
    "edge_list = []\n",
    "object_list = find_all_objects(example_grid)\n",
    "# gnode initialization\n",
    "gnode = Grid(example_grid, 1)\n",
    "node_list.append(gnode)\n",
    "\n",
    "# pnode layer\n",
    "for row in range(gnode.width):\n",
    "    for col in range(gnode.height):\n",
    "        node_list.append(Pixel(gnode, row, col))\n",
    "\n",
    "# onode layer\n",
    "for o in range(len(object_list)):\n",
    "    node_list.append(Object(gnode, o, object_list[o]))\n",
    "\n",
    "\n",
    "# print(len(node_list))\n",
    "\n",
    "# for node in node_list:\n",
    "#     print(node)\n",
    "\n"
   ]
  },
  {
   "cell_type": "code",
   "execution_count": 11,
   "metadata": {},
   "outputs": [
    {
     "ename": "IndexError",
     "evalue": "list index out of range",
     "output_type": "error",
     "traceback": [
      "\u001b[0;31m---------------------------------------------------------------------------\u001b[0m",
      "\u001b[0;31mIndexError\u001b[0m                                Traceback (most recent call last)",
      "Cell \u001b[0;32mIn[11], line 1\u001b[0m\n\u001b[0;32m----> 1\u001b[0m example_obj \u001b[38;5;241m=\u001b[39m node_list[\u001b[38;5;241m-\u001b[39m\u001b[38;5;241m2\u001b[39m]\n\u001b[1;32m      2\u001b[0m \u001b[38;5;28mprint\u001b[39m(example_obj\u001b[38;5;241m.\u001b[39mgrid)\n\u001b[1;32m      3\u001b[0m \u001b[38;5;28mprint\u001b[39m(example_obj\u001b[38;5;241m.\u001b[39msize)\n",
      "\u001b[0;31mIndexError\u001b[0m: list index out of range"
     ]
    }
   ],
   "source": [
    "example_obj = node_list[-2]\n",
    "print(example_obj.grid)\n",
    "print(example_obj.size)\n",
    "print(example_obj.hori_symm)\n",
    "print(example_obj.verti_symm)  \n",
    "print(example_obj.center)  \n",
    "\n",
    "print(example_obj.colcoord)\n",
    "plot_data(togrid(example_obj.colcoord))\n",
    "\n",
    "print(example_obj.relative_colcoord)\n",
    "plot_data(togrid(example_obj.relative_colcoord))\n",
    "\n",
    "\n",
    "\n",
    "print(example_obj.margin_coord)\n",
    "print(example_obj.inner_coord)\n",
    "\n",
    "print(example_obj.corner_coord)\n",
    "print(example_obj.edge_coord)"
   ]
  },
  {
   "cell_type": "code",
   "execution_count": null,
   "metadata": {},
   "outputs": [],
   "source": []
  },
  {
   "cell_type": "code",
   "execution_count": null,
   "metadata": {},
   "outputs": [],
   "source": []
  }
 ],
 "metadata": {
  "kernelspec": {
   "display_name": "base",
   "language": "python",
   "name": "python3"
  },
  "language_info": {
   "codemirror_mode": {
    "name": "ipython",
    "version": 3
   },
   "file_extension": ".py",
   "mimetype": "text/x-python",
   "name": "python",
   "nbconvert_exporter": "python",
   "pygments_lexer": "ipython3",
   "version": "3.11.7"
  }
 },
 "nbformat": 4,
 "nbformat_minor": 2
}
